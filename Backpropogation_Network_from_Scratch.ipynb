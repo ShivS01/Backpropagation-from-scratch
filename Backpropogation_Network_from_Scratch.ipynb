{
  "nbformat": 4,
  "nbformat_minor": 0,
  "metadata": {
    "colab": {
      "name": "Backpropogation Network from Scratch.ipynb",
      "provenance": [],
      "collapsed_sections": []
    },
    "kernelspec": {
      "name": "python3",
      "display_name": "Python 3"
    }
  },
  "cells": [
    {
      "cell_type": "code",
      "metadata": {
        "id": "ZJzxoU-aHrKr"
      },
      "source": [
        "import numpy as np # For matrix and mathematical calculations\n",
        "import pandas as pd # For storing and manipulating dataset\n",
        "import seaborn as sns  # For Visualization of Data\n",
        "import matplotlib.pyplot as plt # For Visualization of Data\n",
        "from sklearn.preprocessing import OneHotEncoder # Converts Categorical Attribute to Numerical Attribute Vector\n",
        "from sklearn.model_selection import train_test_split # To split data into train and test set"
      ],
      "execution_count": 1,
      "outputs": []
    },
    {
      "cell_type": "markdown",
      "metadata": {
        "id": "8lt-9Gn2XYAR"
      },
      "source": [
        "**1. Data Preprocessing**"
      ]
    },
    {
      "cell_type": "code",
      "metadata": {
        "id": "iI8kPr79H7jD",
        "outputId": "df3173fe-2c9e-4b0e-cc35-86837355e369",
        "colab": {
          "base_uri": "https://localhost:8080/",
          "height": 194
        }
      },
      "source": [
        "iris = pd.read_csv(\"./Iris.csv\")\n",
        "iris.head()"
      ],
      "execution_count": 2,
      "outputs": [
        {
          "output_type": "execute_result",
          "data": {
            "text/html": [
              "<div>\n",
              "<style scoped>\n",
              "    .dataframe tbody tr th:only-of-type {\n",
              "        vertical-align: middle;\n",
              "    }\n",
              "\n",
              "    .dataframe tbody tr th {\n",
              "        vertical-align: top;\n",
              "    }\n",
              "\n",
              "    .dataframe thead th {\n",
              "        text-align: right;\n",
              "    }\n",
              "</style>\n",
              "<table border=\"1\" class=\"dataframe\">\n",
              "  <thead>\n",
              "    <tr style=\"text-align: right;\">\n",
              "      <th></th>\n",
              "      <th>Id</th>\n",
              "      <th>SepalLengthCm</th>\n",
              "      <th>SepalWidthCm</th>\n",
              "      <th>PetalLengthCm</th>\n",
              "      <th>PetalWidthCm</th>\n",
              "      <th>Species</th>\n",
              "    </tr>\n",
              "  </thead>\n",
              "  <tbody>\n",
              "    <tr>\n",
              "      <th>0</th>\n",
              "      <td>1</td>\n",
              "      <td>5.1</td>\n",
              "      <td>3.5</td>\n",
              "      <td>1.4</td>\n",
              "      <td>0.2</td>\n",
              "      <td>Iris-setosa</td>\n",
              "    </tr>\n",
              "    <tr>\n",
              "      <th>1</th>\n",
              "      <td>2</td>\n",
              "      <td>4.9</td>\n",
              "      <td>3.0</td>\n",
              "      <td>1.4</td>\n",
              "      <td>0.2</td>\n",
              "      <td>Iris-setosa</td>\n",
              "    </tr>\n",
              "    <tr>\n",
              "      <th>2</th>\n",
              "      <td>3</td>\n",
              "      <td>4.7</td>\n",
              "      <td>3.2</td>\n",
              "      <td>1.3</td>\n",
              "      <td>0.2</td>\n",
              "      <td>Iris-setosa</td>\n",
              "    </tr>\n",
              "    <tr>\n",
              "      <th>3</th>\n",
              "      <td>4</td>\n",
              "      <td>4.6</td>\n",
              "      <td>3.1</td>\n",
              "      <td>1.5</td>\n",
              "      <td>0.2</td>\n",
              "      <td>Iris-setosa</td>\n",
              "    </tr>\n",
              "    <tr>\n",
              "      <th>4</th>\n",
              "      <td>5</td>\n",
              "      <td>5.0</td>\n",
              "      <td>3.6</td>\n",
              "      <td>1.4</td>\n",
              "      <td>0.2</td>\n",
              "      <td>Iris-setosa</td>\n",
              "    </tr>\n",
              "  </tbody>\n",
              "</table>\n",
              "</div>"
            ],
            "text/plain": [
              "   Id  SepalLengthCm  SepalWidthCm  PetalLengthCm  PetalWidthCm      Species\n",
              "0   1            5.1           3.5            1.4           0.2  Iris-setosa\n",
              "1   2            4.9           3.0            1.4           0.2  Iris-setosa\n",
              "2   3            4.7           3.2            1.3           0.2  Iris-setosa\n",
              "3   4            4.6           3.1            1.5           0.2  Iris-setosa\n",
              "4   5            5.0           3.6            1.4           0.2  Iris-setosa"
            ]
          },
          "metadata": {
            "tags": []
          },
          "execution_count": 2
        }
      ]
    },
    {
      "cell_type": "code",
      "metadata": {
        "id": "KoJjd7GpYshd",
        "outputId": "782eb9e6-6111-48a9-a4a9-6f6480a1a5ae",
        "colab": {
          "base_uri": "https://localhost:8080/",
          "height": 194
        }
      },
      "source": [
        "iris = iris.sample(frac=1).reset_index(drop=True) # Shuffling Data\n",
        "iris.head()"
      ],
      "execution_count": 3,
      "outputs": [
        {
          "output_type": "execute_result",
          "data": {
            "text/html": [
              "<div>\n",
              "<style scoped>\n",
              "    .dataframe tbody tr th:only-of-type {\n",
              "        vertical-align: middle;\n",
              "    }\n",
              "\n",
              "    .dataframe tbody tr th {\n",
              "        vertical-align: top;\n",
              "    }\n",
              "\n",
              "    .dataframe thead th {\n",
              "        text-align: right;\n",
              "    }\n",
              "</style>\n",
              "<table border=\"1\" class=\"dataframe\">\n",
              "  <thead>\n",
              "    <tr style=\"text-align: right;\">\n",
              "      <th></th>\n",
              "      <th>Id</th>\n",
              "      <th>SepalLengthCm</th>\n",
              "      <th>SepalWidthCm</th>\n",
              "      <th>PetalLengthCm</th>\n",
              "      <th>PetalWidthCm</th>\n",
              "      <th>Species</th>\n",
              "    </tr>\n",
              "  </thead>\n",
              "  <tbody>\n",
              "    <tr>\n",
              "      <th>0</th>\n",
              "      <td>96</td>\n",
              "      <td>5.7</td>\n",
              "      <td>3.0</td>\n",
              "      <td>4.2</td>\n",
              "      <td>1.2</td>\n",
              "      <td>Iris-versicolor</td>\n",
              "    </tr>\n",
              "    <tr>\n",
              "      <th>1</th>\n",
              "      <td>57</td>\n",
              "      <td>6.3</td>\n",
              "      <td>3.3</td>\n",
              "      <td>4.7</td>\n",
              "      <td>1.6</td>\n",
              "      <td>Iris-versicolor</td>\n",
              "    </tr>\n",
              "    <tr>\n",
              "      <th>2</th>\n",
              "      <td>56</td>\n",
              "      <td>5.7</td>\n",
              "      <td>2.8</td>\n",
              "      <td>4.5</td>\n",
              "      <td>1.3</td>\n",
              "      <td>Iris-versicolor</td>\n",
              "    </tr>\n",
              "    <tr>\n",
              "      <th>3</th>\n",
              "      <td>48</td>\n",
              "      <td>4.6</td>\n",
              "      <td>3.2</td>\n",
              "      <td>1.4</td>\n",
              "      <td>0.2</td>\n",
              "      <td>Iris-setosa</td>\n",
              "    </tr>\n",
              "    <tr>\n",
              "      <th>4</th>\n",
              "      <td>68</td>\n",
              "      <td>5.8</td>\n",
              "      <td>2.7</td>\n",
              "      <td>4.1</td>\n",
              "      <td>1.0</td>\n",
              "      <td>Iris-versicolor</td>\n",
              "    </tr>\n",
              "  </tbody>\n",
              "</table>\n",
              "</div>"
            ],
            "text/plain": [
              "   Id  SepalLengthCm  ...  PetalWidthCm          Species\n",
              "0  96            5.7  ...           1.2  Iris-versicolor\n",
              "1  57            6.3  ...           1.6  Iris-versicolor\n",
              "2  56            5.7  ...           1.3  Iris-versicolor\n",
              "3  48            4.6  ...           0.2      Iris-setosa\n",
              "4  68            5.8  ...           1.0  Iris-versicolor\n",
              "\n",
              "[5 rows x 6 columns]"
            ]
          },
          "metadata": {
            "tags": []
          },
          "execution_count": 3
        }
      ]
    },
    {
      "cell_type": "code",
      "metadata": {
        "id": "ZN3CZblbYvVa",
        "outputId": "a5f4cbb6-518c-468b-9fe7-029d58926dce",
        "colab": {
          "base_uri": "https://localhost:8080/",
          "height": 282
        }
      },
      "source": [
        "iris.describe()"
      ],
      "execution_count": 4,
      "outputs": [
        {
          "output_type": "execute_result",
          "data": {
            "text/html": [
              "<div>\n",
              "<style scoped>\n",
              "    .dataframe tbody tr th:only-of-type {\n",
              "        vertical-align: middle;\n",
              "    }\n",
              "\n",
              "    .dataframe tbody tr th {\n",
              "        vertical-align: top;\n",
              "    }\n",
              "\n",
              "    .dataframe thead th {\n",
              "        text-align: right;\n",
              "    }\n",
              "</style>\n",
              "<table border=\"1\" class=\"dataframe\">\n",
              "  <thead>\n",
              "    <tr style=\"text-align: right;\">\n",
              "      <th></th>\n",
              "      <th>Id</th>\n",
              "      <th>SepalLengthCm</th>\n",
              "      <th>SepalWidthCm</th>\n",
              "      <th>PetalLengthCm</th>\n",
              "      <th>PetalWidthCm</th>\n",
              "    </tr>\n",
              "  </thead>\n",
              "  <tbody>\n",
              "    <tr>\n",
              "      <th>count</th>\n",
              "      <td>150.000000</td>\n",
              "      <td>150.000000</td>\n",
              "      <td>150.000000</td>\n",
              "      <td>150.000000</td>\n",
              "      <td>150.000000</td>\n",
              "    </tr>\n",
              "    <tr>\n",
              "      <th>mean</th>\n",
              "      <td>75.500000</td>\n",
              "      <td>5.843333</td>\n",
              "      <td>3.054000</td>\n",
              "      <td>3.758667</td>\n",
              "      <td>1.198667</td>\n",
              "    </tr>\n",
              "    <tr>\n",
              "      <th>std</th>\n",
              "      <td>43.445368</td>\n",
              "      <td>0.828066</td>\n",
              "      <td>0.433594</td>\n",
              "      <td>1.764420</td>\n",
              "      <td>0.763161</td>\n",
              "    </tr>\n",
              "    <tr>\n",
              "      <th>min</th>\n",
              "      <td>1.000000</td>\n",
              "      <td>4.300000</td>\n",
              "      <td>2.000000</td>\n",
              "      <td>1.000000</td>\n",
              "      <td>0.100000</td>\n",
              "    </tr>\n",
              "    <tr>\n",
              "      <th>25%</th>\n",
              "      <td>38.250000</td>\n",
              "      <td>5.100000</td>\n",
              "      <td>2.800000</td>\n",
              "      <td>1.600000</td>\n",
              "      <td>0.300000</td>\n",
              "    </tr>\n",
              "    <tr>\n",
              "      <th>50%</th>\n",
              "      <td>75.500000</td>\n",
              "      <td>5.800000</td>\n",
              "      <td>3.000000</td>\n",
              "      <td>4.350000</td>\n",
              "      <td>1.300000</td>\n",
              "    </tr>\n",
              "    <tr>\n",
              "      <th>75%</th>\n",
              "      <td>112.750000</td>\n",
              "      <td>6.400000</td>\n",
              "      <td>3.300000</td>\n",
              "      <td>5.100000</td>\n",
              "      <td>1.800000</td>\n",
              "    </tr>\n",
              "    <tr>\n",
              "      <th>max</th>\n",
              "      <td>150.000000</td>\n",
              "      <td>7.900000</td>\n",
              "      <td>4.400000</td>\n",
              "      <td>6.900000</td>\n",
              "      <td>2.500000</td>\n",
              "    </tr>\n",
              "  </tbody>\n",
              "</table>\n",
              "</div>"
            ],
            "text/plain": [
              "               Id  SepalLengthCm  SepalWidthCm  PetalLengthCm  PetalWidthCm\n",
              "count  150.000000     150.000000    150.000000     150.000000    150.000000\n",
              "mean    75.500000       5.843333      3.054000       3.758667      1.198667\n",
              "std     43.445368       0.828066      0.433594       1.764420      0.763161\n",
              "min      1.000000       4.300000      2.000000       1.000000      0.100000\n",
              "25%     38.250000       5.100000      2.800000       1.600000      0.300000\n",
              "50%     75.500000       5.800000      3.000000       4.350000      1.300000\n",
              "75%    112.750000       6.400000      3.300000       5.100000      1.800000\n",
              "max    150.000000       7.900000      4.400000       6.900000      2.500000"
            ]
          },
          "metadata": {
            "tags": []
          },
          "execution_count": 4
        }
      ]
    },
    {
      "cell_type": "code",
      "metadata": {
        "id": "zCGJkKNMqFlP",
        "outputId": "9a921433-93ea-4f20-efde-20a71a540a5f",
        "colab": {
          "base_uri": "https://localhost:8080/",
          "height": 338
        }
      },
      "source": [
        "sns.heatmap(iris.corr(), annot = True); # To observe correlation between attributes"
      ],
      "execution_count": 5,
      "outputs": [
        {
          "output_type": "display_data",
          "data": {
            "image/png": "[encoded data removed]",
            "text/plain": [
              "<Figure size 432x288 with 2 Axes>"
            ]
          },
          "metadata": {
            "tags": [],
            "needs_background": "light"
          }
        }
      ]
    },
    {
      "cell_type": "code",
      "metadata": {
        "id": "7CZfQ8ZUugDS",
        "outputId": "2bffdced-ebac-414f-a4bd-531ff9e82e8d",
        "colab": {
          "base_uri": "https://localhost:8080/",
          "height": 595
        }
      },
      "source": [
        "# Visualization of Dataset using Scatterplot\n",
        "sns.set_style(\"darkgrid\") \n",
        "sns.FacetGrid(iris, hue=\"Species\",col='Species', height=4).map(plt.scatter, \"SepalLengthCm\", \"SepalWidthCm\").add_legend()\n",
        "sns.FacetGrid(iris, hue=\"Species\",col='Species', height=4).map(plt.scatter, \"PetalLengthCm\",\"PetalWidthCm\").add_legend()"
      ],
      "execution_count": 6,
      "outputs": [
        {
          "output_type": "execute_result",
          "data": {
            "text/plain": [
              "<seaborn.axisgrid.FacetGrid at 0x7f6384300da0>"
            ]
          },
          "metadata": {
            "tags": []
          },
          "execution_count": 6
        },
        {
          "output_type": "display_data",
          "data": {
            "image/png": "[encoded data removed]",
            "text/plain": [
              "<Figure size 967.25x288 with 3 Axes>"
            ]
          },
          "metadata": {
            "tags": []
          }
        },
        {
          "output_type": "display_data",
          "data": {
            "image/png": "[encoded data removed]",
            "text/plain": [
              "<Figure size 967.25x288 with 3 Axes>"
            ]
          },
          "metadata": {
            "tags": []
          }
        }
      ]
    },
    {
      "cell_type": "code",
      "metadata": {
        "id": "w1ORXOmyIY3m",
        "outputId": "d3e019b7-df9b-4a05-ee42-a30cf1f01f31",
        "colab": {
          "base_uri": "https://localhost:8080/",
          "height": 406
        }
      },
      "source": [
        "# Target or output values\n",
        "Y = iris.Species\n",
        "\n",
        "# Checking count of class labels\n",
        "sns.countplot(Y)\n",
        "Y.value_counts()"
      ],
      "execution_count": 7,
      "outputs": [
        {
          "output_type": "stream",
          "text": [
            "/usr/local/lib/python3.6/dist-packages/seaborn/_decorators.py:43: FutureWarning: Pass the following variable as a keyword arg: x. From version 0.12, the only valid positional argument will be `data`, and passing other arguments without an explicit keyword will result in an error or misinterpretation.\n",
            "  FutureWarning\n"
          ],
          "name": "stderr"
        },
        {
          "output_type": "execute_result",
          "data": {
            "text/plain": [
              "Iris-virginica     50\n",
              "Iris-setosa        50\n",
              "Iris-versicolor    50\n",
              "Name: Species, dtype: int64"
            ]
          },
          "metadata": {
            "tags": []
          },
          "execution_count": 7
        },
        {
          "output_type": "display_data",
          "data": {
            "image/png": "[encoded data removed]",
            "text/plain": [
              "<Figure size 432x288 with 1 Axes>"
            ]
          },
          "metadata": {
            "tags": []
          }
        }
      ]
    },
    {
      "cell_type": "markdown",
      "metadata": {
        "id": "l_Kdh8RtYC3J"
      },
      "source": [
        "**2. Model Algorithm**"
      ]
    },
    {
      "cell_type": "code",
      "metadata": {
        "id": "U1MQr45xIdCx"
      },
      "source": [
        "def NeuralNetwork(X_train, Y_train, X_val=None, Y_val=None, epochs=10, nodes=[], lr=0.15):\n",
        "    hidden_layers = len(nodes) - 1\n",
        "    weights = InitializeWeights(nodes)\n",
        "\n",
        "    for epoch in range(1, epochs+1):\n",
        "        weights = Train(X_train, Y_train, lr, weights)\n",
        "\n",
        "        if(epoch % 20 == 0):\n",
        "            print(\"Epoch {}\".format(epoch))\n",
        "            print(\"Training Accuracy:{}\".format(Accuracy(X_train, Y_train, weights)))\n",
        "            if X_val.any():\n",
        "                print(\"Validation Accuracy:{}\".format(Accuracy(X_val, Y_val, weights)))\n",
        "            \n",
        "    return weights"
      ],
      "execution_count": 8,
      "outputs": []
    },
    {
      "cell_type": "code",
      "metadata": {
        "id": "Xt6FKHAnIfV4"
      },
      "source": [
        "def InitializeWeights(nodes):\n",
        "    \"\"\"Initialize weights with random values in [-1, 1] (including bias)\"\"\"\n",
        "    layers, weights = len(nodes), []\n",
        "    \n",
        "    for i in range(1, layers):\n",
        "        w = [[np.random.uniform(-1, 1) for k in range(nodes[i-1] + 1)]\n",
        "              for j in range(nodes[i])]\n",
        "        weights.append(np.matrix(w))\n",
        "    \n",
        "    return weights"
      ],
      "execution_count": 9,
      "outputs": []
    },
    {
      "cell_type": "code",
      "metadata": {
        "id": "1H0G2soOIg16"
      },
      "source": [
        "def ForwardPropagation(x, weights, layers):\n",
        "    activations, layer_input = [x], x\n",
        "    for j in range(layers):\n",
        "        activation = Sigmoid(np.dot(layer_input, weights[j].T))\n",
        "        activations.append(activation)\n",
        "        layer_input = np.append(1, activation) # Augment with bias\n",
        "    \n",
        "    return activations"
      ],
      "execution_count": 10,
      "outputs": []
    },
    {
      "cell_type": "code",
      "metadata": {
        "id": "ShDC4q64Iilr"
      },
      "source": [
        "def BackPropagation(y, activations, weights, layers):\n",
        "    outputFinal = activations[-1]\n",
        "    error = np.matrix(y - outputFinal) # Error at output\n",
        "    \n",
        "    for j in range(layers, 0, -1):\n",
        "        currActivation = activations[j]\n",
        "        \n",
        "        if(j > 1):\n",
        "            # Augment previous activation\n",
        "            prevActivation = np.append(1, activations[j-1])\n",
        "        else:\n",
        "            # First hidden layer, prevActivation is input (without bias)\n",
        "            prevActivation = activations[0]\n",
        "        \n",
        "        delta = np.multiply(error, SigmoidDerivative(currActivation))\n",
        "        weights[j-1] += lr * np.multiply(delta.T, prevActivation)\n",
        "\n",
        "        w = np.delete(weights[j-1], [0], axis=1) # Remove bias from weights\n",
        "        error = np.dot(delta, w) # Calculate error for current layer\n",
        "    \n",
        "    return weights"
      ],
      "execution_count": 11,
      "outputs": []
    },
    {
      "cell_type": "code",
      "metadata": {
        "id": "gxQ5h8OCIj-l"
      },
      "source": [
        "def Train(X, Y, lr, weights):\n",
        "    layers = len(weights)\n",
        "    for i in range(len(X)):\n",
        "        x, y = X[i], Y[i]\n",
        "        x = np.matrix(np.append(1, x)) # Augment feature vector\n",
        "        \n",
        "        activations = ForwardPropagation(x, weights, layers)\n",
        "        weights = BackPropagation(y, activations, weights, layers)\n",
        "\n",
        "    return weights"
      ],
      "execution_count": 12,
      "outputs": []
    },
    {
      "cell_type": "code",
      "metadata": {
        "id": "StizUR2PIlLD"
      },
      "source": [
        "def Sigmoid(x):\n",
        "    return 1 / (1 + np.exp(-x))\n",
        "\n",
        "def SigmoidDerivative(x):\n",
        "    return np.multiply(x, 1-x)"
      ],
      "execution_count": 13,
      "outputs": []
    },
    {
      "cell_type": "code",
      "metadata": {
        "id": "URH_sg6yImfZ"
      },
      "source": [
        "def Predict(item, weights):\n",
        "    layers = len(weights)\n",
        "    item = np.append(1, item) # Augment feature vector\n",
        "    \n",
        "    ##_Forward Propagation_##\n",
        "    activations = ForwardPropagation(item, weights, layers)\n",
        "    \n",
        "    # Output layer values\n",
        "    outputFinal = activations[-1].A1\n",
        "    \n",
        "    # Uncomment the line below and rerun cell to see actual outputs of the net's output layer\n",
        "    print(outputFinal)\n",
        "    \n",
        "    index = FindMaxActivation(outputFinal)\n",
        "\n",
        "    # Initialize prediction vector to zeros\n",
        "    y = [0 for i in range(len(outputFinal))]\n",
        "    y[index] = 1  # Set guessed class to 1\n",
        "\n",
        "    return y # Return prediction vector\n",
        "\n",
        "\n",
        "def FindMaxActivation(output):\n",
        "    \"\"\"Find max activation in output\"\"\"\n",
        "    m, index = output[0], 0\n",
        "    for i in range(1, len(output)):\n",
        "        if(output[i] > m):\n",
        "            m, index = output[i], i\n",
        "    \n",
        "    return index"
      ],
      "execution_count": 31,
      "outputs": []
    },
    {
      "cell_type": "code",
      "metadata": {
        "id": "sx_3_uMsIoAa"
      },
      "source": [
        "def Accuracy(X, Y, weights):\n",
        "    \"\"\"Run set through network, find overall accuracy\"\"\"\n",
        "    correct = 0\n",
        "\n",
        "    for i in range(len(X)):\n",
        "        x, y = X[i], list(Y[i])\n",
        "        guess = Predict(x, weights)\n",
        "\n",
        "        if(y == guess):\n",
        "            # Guessed correctly\n",
        "            correct += 1\n",
        "\n",
        "    return correct / len(X)"
      ],
      "execution_count": 15,
      "outputs": []
    },
    {
      "cell_type": "markdown",
      "metadata": {
        "id": "dtGutO9qYUfN"
      },
      "source": [
        "**3. Training the BPN Model**"
      ]
    },
    {
      "cell_type": "code",
      "metadata": {
        "id": "MtjTCR7ulszk",
        "outputId": "db9b507c-220e-4901-8b83-3eedc14d492c",
        "colab": {
          "base_uri": "https://localhost:8080/",
          "height": 106
        }
      },
      "source": [
        "# Data or input values - for training neural net\n",
        "X = iris[['SepalLengthCm', 'SepalWidthCm', 'PetalLengthCm', 'PetalWidthCm']]\n",
        "X = np.array(X)\n",
        "X[:5]"
      ],
      "execution_count": 16,
      "outputs": [
        {
          "output_type": "execute_result",
          "data": {
            "text/plain": [
              "array([[5.7, 3. , 4.2, 1.2],\n",
              "       [6.3, 3.3, 4.7, 1.6],\n",
              "       [5.7, 2.8, 4.5, 1.3],\n",
              "       [4.6, 3.2, 1.4, 0.2],\n",
              "       [5.8, 2.7, 4.1, 1. ]])"
            ]
          },
          "metadata": {
            "tags": []
          },
          "execution_count": 16
        }
      ]
    },
    {
      "cell_type": "code",
      "metadata": {
        "id": "E_uDsBTQltss",
        "outputId": "b9491f08-e52b-4a22-d18c-ab9764ea7415",
        "colab": {
          "base_uri": "https://localhost:8080/",
          "height": 106
        }
      },
      "source": [
        "# Converting categorical values to One-Hot-Encoded vectors\n",
        "# [1,0,0] : Iris setosa\n",
        "# [0,1,0] : Iris versicolor\n",
        "# [0,0,1] : Iris virginica\n",
        "\n",
        "one_hot_encoder = OneHotEncoder(sparse=False)\n",
        "\n",
        "# Target values - for comparing and calculating error values\n",
        "Y = one_hot_encoder.fit_transform(np.array(Y).reshape(-1, 1))\n",
        "Y[:5]"
      ],
      "execution_count": 17,
      "outputs": [
        {
          "output_type": "execute_result",
          "data": {
            "text/plain": [
              "array([[0., 1., 0.],\n",
              "       [0., 1., 0.],\n",
              "       [0., 1., 0.],\n",
              "       [1., 0., 0.],\n",
              "       [0., 1., 0.]])"
            ]
          },
          "metadata": {
            "tags": []
          },
          "execution_count": 17
        }
      ]
    },
    {
      "cell_type": "code",
      "metadata": {
        "id": "9BOG2aSL98UU"
      },
      "source": [
        "X_train, X_test, Y_train, Y_test = train_test_split(X, Y, test_size=0.15)\n",
        "X_train, X_val, Y_train, Y_val = train_test_split(X_train, Y_train, test_size=0.1)"
      ],
      "execution_count": 18,
      "outputs": []
    },
    {
      "cell_type": "code",
      "metadata": {
        "id": "IbFjc2E7IpU6",
        "outputId": "8fef7cde-5096-4aa0-aefa-b7dac5df91a9",
        "colab": {
          "base_uri": "https://localhost:8080/",
          "height": 284
        }
      },
      "source": [
        "f = len(X[0]) # Number of features\n",
        "o = len(Y[0]) # Number of outputs / classes\n",
        "\n",
        "layers = [f, 8,10 ,8 ,o] # Number of nodes in layers\n",
        "lr, epochs = 0.10, 100\n",
        "\n",
        "weights = NeuralNetwork(X_train, Y_train, X_val, Y_val, epochs=epochs, nodes=layers, lr=lr);"
      ],
      "execution_count": 27,
      "outputs": [
        {
          "output_type": "stream",
          "text": [
            "Epoch 20\n",
            "Training Accuracy:0.9736842105263158\n",
            "Validation Accuracy:0.9230769230769231\n",
            "Epoch 40\n",
            "Training Accuracy:0.9736842105263158\n",
            "Validation Accuracy:0.9230769230769231\n",
            "Epoch 60\n",
            "Training Accuracy:0.956140350877193\n",
            "Validation Accuracy:1.0\n",
            "Epoch 80\n",
            "Training Accuracy:0.9385964912280702\n",
            "Validation Accuracy:1.0\n",
            "Epoch 100\n",
            "Training Accuracy:0.9736842105263158\n",
            "Validation Accuracy:1.0\n"
          ],
          "name": "stdout"
        }
      ]
    },
    {
      "cell_type": "code",
      "metadata": {
        "id": "LE6q1c4hBL19",
        "outputId": "09aac0cf-f5d9-466a-d781-2d13d4e40311",
        "colab": {
          "base_uri": "https://localhost:8080/",
          "height": 1000
        }
      },
      "source": [
        "# Weights after training\n",
        "weights"
      ],
      "execution_count": 28,
      "outputs": [
        {
          "output_type": "execute_result",
          "data": {
            "text/plain": [
              "[matrix([[ 1.11891559,  1.24999922,  1.52896399, -1.7577655 , -2.92519689],\n",
              "         [ 0.40396372,  0.41730951,  0.17973635,  0.47502879, -0.29392521],\n",
              "         [ 0.14330023,  0.62159917,  0.36553016, -1.31363414, -0.38558726],\n",
              "         [-0.29594861, -0.84896376, -0.50288971,  0.39689877, -0.48259111],\n",
              "         [ 0.00717612,  0.7864427 ,  0.60611877, -1.93603087, -1.37768287],\n",
              "         [-0.74641515, -1.62964332, -2.46166757,  2.58716151,  3.41230192],\n",
              "         [ 0.06256268,  0.5614603 ,  1.49510437, -0.86283463, -2.31852291],\n",
              "         [ 0.49696584, -1.00323302, -0.57646409,  1.15216548,  1.81772822]]),\n",
              " matrix([[-0.14982762,  1.74229112,  0.20933522, -0.08284655, -0.73451841,\n",
              "           1.25195287, -0.59146889, -0.05671484, -1.19238909],\n",
              "         [ 0.09910358, -1.58188166,  0.64267911, -0.87052637, -0.58519751,\n",
              "          -1.01167396,  1.34015145, -0.90076385,  0.73866286],\n",
              "         [-1.01088516,  0.74905778, -0.35298075,  0.90327261, -0.99835716,\n",
              "           1.69505818, -1.37017764,  0.32536164, -1.29254119],\n",
              "         [ 0.08073019,  1.63744528,  0.81436974,  0.72597513, -0.77321513,\n",
              "           0.24369511, -2.38784046,  1.61398376, -0.80769209],\n",
              "         [-0.34202187, -0.55230566, -0.76771049,  0.2115481 ,  0.7609515 ,\n",
              "           0.22746574,  1.65946669, -0.61002626,  0.57717806],\n",
              "         [ 0.63886505,  0.64954594,  0.35260336, -0.45231302,  0.81387625,\n",
              "          -1.80662807,  0.39694319,  0.11355824, -0.50977787],\n",
              "         [ 0.40840169,  0.67816347,  0.2659754 , -0.15149249,  0.89098254,\n",
              "           0.19863335,  0.51379826,  0.35177444,  0.4203714 ],\n",
              "         [ 0.02179209,  0.43607039, -0.27379892, -1.39927223, -0.22226261,\n",
              "          -0.80428253,  1.28895115,  0.09628727,  1.12875547],\n",
              "         [ 0.00549926,  0.32499413, -0.05460255,  0.30399924, -0.09673624,\n",
              "           2.0984938 , -0.69685351, -0.38361145, -1.73649614],\n",
              "         [ 0.68948248, -0.31563244,  0.06441036, -1.31356599,  0.40028998,\n",
              "          -1.00922482,  2.162999  , -1.18816794, -0.06101065]]),\n",
              " matrix([[ 0.42757518,  0.04889472, -0.50853678,  0.71093943, -0.08800649,\n",
              "           0.83126554, -1.3909065 , -0.81171735, -0.32602434,  0.95932891,\n",
              "          -0.86377443],\n",
              "         [ 0.49812598, -0.62626164, -0.11727184, -0.93541034, -0.62740749,\n",
              "          -0.90293896,  1.15458138,  0.5298212 ,  1.27350357,  0.06833272,\n",
              "           0.94873366],\n",
              "         [ 0.98653893, -0.97377507,  1.11319863,  0.53287478,  0.52928609,\n",
              "           0.71843118,  0.1295178 ,  0.22244938,  1.13018608, -1.1898097 ,\n",
              "           0.71548167],\n",
              "         [-0.52061137, -0.90051077,  0.02348264,  0.12545771, -0.02280212,\n",
              "           0.67467411,  0.90340817,  1.095917  ,  1.40562925, -0.86529913,\n",
              "           0.46297903],\n",
              "         [-0.92571683,  0.25020735, -1.75100003,  2.28967238, -0.28960549,\n",
              "          -0.87712787, -1.60259449,  0.01397692, -0.3701175 ,  1.77974086,\n",
              "          -1.02279475],\n",
              "         [-0.03114855, -1.43602419,  1.67994499, -1.49603417, -3.24129667,\n",
              "           1.38762329, -1.08274654, -1.09871948,  1.21895957, -0.91608573,\n",
              "           1.60691499],\n",
              "         [-1.21298229,  0.84961404, -2.1895028 ,  2.22316386,  0.11659233,\n",
              "           0.22479563, -1.20130143, -0.25175598, -0.94642366,  1.49578376,\n",
              "          -2.12488287],\n",
              "         [-0.27832267, -1.66818633,  1.66705121, -0.86409157, -2.02918589,\n",
              "           0.59657385, -0.99889562,  0.02875213,  0.22517376, -1.75842559,\n",
              "           1.5740602 ]]),\n",
              " matrix([[-0.6444908 ,  1.69755309, -1.67941359, -1.17993279, -1.08301573,\n",
              "           1.87045601, -1.07963259,  3.56872055, -1.75328422],\n",
              "         [ 0.70676398, -0.76853647,  0.85943106,  1.08044689,  1.0780574 ,\n",
              "          -2.6672064 , -4.0154211 , -2.54307892, -2.42868923],\n",
              "         [-1.57868744, -0.17746142, -0.28503151, -1.48172142,  0.02443696,\n",
              "          -1.10182153,  3.4272587 , -2.68748478,  2.91975398]])]"
            ]
          },
          "metadata": {
            "tags": []
          },
          "execution_count": 28
        }
      ]
    },
    {
      "cell_type": "markdown",
      "metadata": {
        "id": "ct4pn8hq92pT"
      },
      "source": [
        "**4. Model Evaluation**"
      ]
    },
    {
      "cell_type": "code",
      "metadata": {
        "id": "oem7vJlcIq70",
        "outputId": "efd46a20-cdae-42d8-fa35-dd9d5f0cf6b6",
        "colab": {
          "base_uri": "https://localhost:8080/",
          "height": 35
        }
      },
      "source": [
        "print(\"Testing Accuracy: {}\".format(Accuracy(X_test, Y_test, weights)))"
      ],
      "execution_count": 29,
      "outputs": [
        {
          "output_type": "stream",
          "text": [
            "Testing Accuracy: 0.9565217391304348\n"
          ],
          "name": "stdout"
        }
      ]
    },
    {
      "cell_type": "code",
      "metadata": {
        "id": "RMRzJPOMaLPi",
        "outputId": "c92fb690-96c5-4e2c-e1bf-2c3b98ce8524",
        "colab": {
          "base_uri": "https://localhost:8080/",
          "height": 88
        }
      },
      "source": [
        "# Inserting random input value outside dataset for class predicition\n",
        "\n",
        "sep_len = np.random.uniform(4,8)\n",
        "sep_wid = np.random.uniform(2,5)\n",
        "pet_len = np.random.uniform(1,7)\n",
        "pet_wid = np.random.uniform(0.1,2.5)\n",
        "\n",
        "item=[sep_len,sep_wid,pet_len,pet_wid]\n",
        "print(item)\n",
        "\n",
        "predicted_output = Predict(item,weights)\n",
        "print(predicted_output)\n",
        "# [1,0,0] : Iris setosa\n",
        "# [0,1,0] : Iris versicolor\n",
        "# [0,0,1] : Iris virginica\n",
        "\n",
        "if predicted_output[0]==1:\n",
        "  print(\"Iris setosa\")\n",
        "elif predicted_output[1]==1:\n",
        "  print(\"Iris versicolor\")\n",
        "else:\n",
        "  print(\"Iris virginica\")\n"
      ],
      "execution_count": 32,
      "outputs": [
        {
          "output_type": "stream",
          "text": [
            "[6.834173844908249, 3.0048130812201603, 3.90545545961374, 1.7503850164581407]\n",
            "[0.07443916 0.88540114 0.02523859]\n",
            "[0, 1, 0]\n",
            "Iris versicolor\n"
          ],
          "name": "stdout"
        }
      ]
    },
    {
      "cell_type": "code",
      "metadata": {
        "id": "caVxKYWCaMlZ"
      },
      "source": [
        ""
      ],
      "execution_count": null,
      "outputs": []
    }
  ]
}